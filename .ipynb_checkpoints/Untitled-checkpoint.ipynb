{
 "cells": [
  {
   "cell_type": "code",
   "execution_count": 46,
   "id": "2c335595-d017-425a-80a2-087b6539b275",
   "metadata": {},
   "outputs": [],
   "source": [
    "import pandas as pd\n",
    "s3_employee_url = \"https://fn-uat-server.s3.ap-south-1.amazonaws.com/csv-exports/20231209/export-finops_employees-kwxeultrapllsdbw.csv\"\n",
    "demo_csv = \"./employee_demo.csv\"\n",
    "import json"
   ]
  },
  {
   "cell_type": "code",
   "execution_count": 48,
   "id": "ff1b6ad2-3512-4f9e-a2ae-394f1f3efdc7",
   "metadata": {},
   "outputs": [
    {
     "name": "stdout",
     "output_type": "stream",
     "text": [
      "       id first_name    last_name                              email  \\\n",
      "0       1     Janaya       Megany                   jmegany0@mtv.com   \n",
      "1       2      Anett  Widdowfield              awiddowfield1@ibm.com   \n",
      "2       3       Tani     Mathelon             tmathelon2@myspace.com   \n",
      "3       4    Chaunce    Iacovuzzi           ciacovuzzi3@bluehost.com   \n",
      "4       5    Leoline     Collidge      lcollidge4@huffingtonpost.com   \n",
      "..    ...        ...          ...                                ...   \n",
      "995   996     Adiana       Snyder                  asnyderrn@mail.ru   \n",
      "996   997       Wynn     Beastall          wbeastallro@rakuten.co.jp   \n",
      "997   998      Selma      Gasking  sgaskingrp@networkadvertising.org   \n",
      "998   999   Elianore       Sacker           esackerrq@technorati.com   \n",
      "999  1000    Padraig       Lenard                  plenardrr@who.int   \n",
      "\n",
      "          gender  salary  age  \n",
      "0         Female    6396   37  \n",
      "1         Female    9191   28  \n",
      "2         Female    1554   39  \n",
      "3           Male    1594   34  \n",
      "4         Female    6050   25  \n",
      "..           ...     ...  ...  \n",
      "995       Female    7819   45  \n",
      "996         Male    3001   37  \n",
      "997       Female    3716   40  \n",
      "998       Female    7632   43  \n",
      "999  Genderfluid    2433   26  \n",
      "\n",
      "[1000 rows x 7 columns]\n"
     ]
    }
   ],
   "source": [
    "try:\n",
    "    csv_file = pd.read_csv(demo_csv,delimiter=',',on_bad_lines=\"skip\")\n",
    "    print(csv_file)\n",
    "except Exception as e:\n",
    "    print(f\"Error reading Excel file from S3 URL: {e}\")"
   ]
  },
  {
   "cell_type": "code",
   "execution_count": 54,
   "id": "8b2c25c1-534e-4d77-a2cf-eadd7dd2da29",
   "metadata": {},
   "outputs": [
    {
     "data": {
      "text/html": [
       "<div>\n",
       "<style scoped>\n",
       "    .dataframe tbody tr th:only-of-type {\n",
       "        vertical-align: middle;\n",
       "    }\n",
       "\n",
       "    .dataframe tbody tr th {\n",
       "        vertical-align: top;\n",
       "    }\n",
       "\n",
       "    .dataframe thead th {\n",
       "        text-align: right;\n",
       "    }\n",
       "</style>\n",
       "<table border=\"1\" class=\"dataframe\">\n",
       "  <thead>\n",
       "    <tr style=\"text-align: right;\">\n",
       "      <th></th>\n",
       "      <th>id</th>\n",
       "      <th>salary</th>\n",
       "      <th>age</th>\n",
       "    </tr>\n",
       "  </thead>\n",
       "  <tbody>\n",
       "    <tr>\n",
       "      <th>count</th>\n",
       "      <td>1000.000000</td>\n",
       "      <td>1000.000000</td>\n",
       "      <td>1000.000000</td>\n",
       "    </tr>\n",
       "    <tr>\n",
       "      <th>mean</th>\n",
       "      <td>500.500000</td>\n",
       "      <td>5535.186000</td>\n",
       "      <td>34.709000</td>\n",
       "    </tr>\n",
       "    <tr>\n",
       "      <th>std</th>\n",
       "      <td>288.819436</td>\n",
       "      <td>2595.979967</td>\n",
       "      <td>9.104021</td>\n",
       "    </tr>\n",
       "    <tr>\n",
       "      <th>min</th>\n",
       "      <td>1.000000</td>\n",
       "      <td>1008.000000</td>\n",
       "      <td>20.000000</td>\n",
       "    </tr>\n",
       "    <tr>\n",
       "      <th>25%</th>\n",
       "      <td>250.750000</td>\n",
       "      <td>3237.750000</td>\n",
       "      <td>27.000000</td>\n",
       "    </tr>\n",
       "    <tr>\n",
       "      <th>50%</th>\n",
       "      <td>500.500000</td>\n",
       "      <td>5501.000000</td>\n",
       "      <td>34.000000</td>\n",
       "    </tr>\n",
       "    <tr>\n",
       "      <th>75%</th>\n",
       "      <td>750.250000</td>\n",
       "      <td>7736.250000</td>\n",
       "      <td>43.000000</td>\n",
       "    </tr>\n",
       "    <tr>\n",
       "      <th>max</th>\n",
       "      <td>1000.000000</td>\n",
       "      <td>10000.000000</td>\n",
       "      <td>50.000000</td>\n",
       "    </tr>\n",
       "  </tbody>\n",
       "</table>\n",
       "</div>"
      ],
      "text/plain": [
       "                id        salary          age\n",
       "count  1000.000000   1000.000000  1000.000000\n",
       "mean    500.500000   5535.186000    34.709000\n",
       "std     288.819436   2595.979967     9.104021\n",
       "min       1.000000   1008.000000    20.000000\n",
       "25%     250.750000   3237.750000    27.000000\n",
       "50%     500.500000   5501.000000    34.000000\n",
       "75%     750.250000   7736.250000    43.000000\n",
       "max    1000.000000  10000.000000    50.000000"
      ]
     },
     "execution_count": 54,
     "metadata": {},
     "output_type": "execute_result"
    }
   ],
   "source": [
    "# calculate age, salary standard deviation, variance \n",
    "describe_result = csv_file.describe()\n",
    "describe_result\n"
   ]
  },
  {
   "cell_type": "code",
   "execution_count": 55,
   "id": "001c109d-1cbc-42ff-bddf-f8a2b314fec0",
   "metadata": {},
   "outputs": [
    {
     "data": {
      "text/plain": [
       "'{\"id\":{\"count\":1000.0,\"mean\":500.5,\"std\":288.8194360957,\"min\":1.0,\"25%\":250.75,\"50%\":500.5,\"75%\":750.25,\"max\":1000.0},\"salary\":{\"count\":1000.0,\"mean\":5535.186,\"std\":2595.9799674488,\"min\":1008.0,\"25%\":3237.75,\"50%\":5501.0,\"75%\":7736.25,\"max\":10000.0},\"age\":{\"count\":1000.0,\"mean\":34.709,\"std\":9.1040212106,\"min\":20.0,\"25%\":27.0,\"50%\":34.0,\"75%\":43.0,\"max\":50.0}}'"
      ]
     },
     "execution_count": 55,
     "metadata": {},
     "output_type": "execute_result"
    }
   ],
   "source": [
    "describe_result.to_json()"
   ]
  },
  {
   "cell_type": "code",
   "execution_count": 66,
   "id": "f744d6fe-7340-409c-b84d-5ef7ab1fe4e9",
   "metadata": {},
   "outputs": [
    {
     "name": "stdout",
     "output_type": "stream",
     "text": [
      "<class 'str'>\n"
     ]
    }
   ],
   "source": [
    "table_form = csv_file.to_json(orient='table', index=False)\n",
    "print(type(table_form))\n"
   ]
  },
  {
   "cell_type": "code",
   "execution_count": null,
   "id": "083026fe-42bb-43b9-a0f4-7fa4ede9966e",
   "metadata": {},
   "outputs": [],
   "source": []
  }
 ],
 "metadata": {
  "kernelspec": {
   "display_name": "Python 3 (ipykernel)",
   "language": "python",
   "name": "python3"
  },
  "language_info": {
   "codemirror_mode": {
    "name": "ipython",
    "version": 3
   },
   "file_extension": ".py",
   "mimetype": "text/x-python",
   "name": "python",
   "nbconvert_exporter": "python",
   "pygments_lexer": "ipython3",
   "version": "3.11.6"
  }
 },
 "nbformat": 4,
 "nbformat_minor": 5
}
